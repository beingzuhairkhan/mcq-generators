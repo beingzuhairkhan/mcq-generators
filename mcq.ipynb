{
 "cells": [
  {
   "cell_type": "code",
   "execution_count": 1,
   "metadata": {},
   "outputs": [],
   "source": [
    "import os\n",
    "import json\n",
    "import pandas as pd\n",
    "import traceback"
   ]
  },
  {
   "cell_type": "code",
   "execution_count": 2,
   "metadata": {},
   "outputs": [],
   "source": [
    "from langchain.chat_models import ChatOpenAI"
   ]
  },
  {
   "cell_type": "code",
   "execution_count": 3,
   "metadata": {},
   "outputs": [
    {
     "data": {
      "text/plain": [
       "True"
      ]
     },
     "execution_count": 3,
     "metadata": {},
     "output_type": "execute_result"
    }
   ],
   "source": [
    "from dotenv import load_dotenv\n",
    "load_dotenv()"
   ]
  },
  {
   "cell_type": "code",
   "execution_count": 4,
   "metadata": {},
   "outputs": [],
   "source": [
    "KEY=os.getenv(\"OPENAI_API_KEY5\")"
   ]
  },
  {
   "cell_type": "code",
   "execution_count": 5,
   "metadata": {},
   "outputs": [
    {
     "name": "stdout",
     "output_type": "stream",
     "text": [
      "sk-proj-r1BnlOwScc3fykuSQ2mYT3BlbkFJF8yPW33GXT4dG57qOTWm\n"
     ]
    }
   ],
   "source": [
    "print(KEY)"
   ]
  },
  {
   "cell_type": "code",
   "execution_count": 6,
   "metadata": {},
   "outputs": [
    {
     "name": "stderr",
     "output_type": "stream",
     "text": [
      "c:\\Users\\zuhai\\OneDrive\\Desktop\\PROJECT2\\MCQ_GENERATOR\\env\\lib\\site-packages\\langchain_core\\_api\\deprecation.py:119: LangChainDeprecationWarning: The class `ChatOpenAI` was deprecated in LangChain 0.0.10 and will be removed in 0.3.0. An updated version of the class exists in the langchain-openai package and should be used instead. To use it run `pip install -U langchain-openai` and import as `from langchain_openai import ChatOpenAI`.\n",
      "  warn_deprecated(\n"
     ]
    }
   ],
   "source": [
    "llm=ChatOpenAI(openai_api_key=KEY , model_name=\"gpt-3.5-turbo\" , temperature=0.5)"
   ]
  },
  {
   "cell_type": "code",
   "execution_count": 7,
   "metadata": {},
   "outputs": [
    {
     "data": {
      "text/plain": [
       "ChatOpenAI(client=<openai.resources.chat.completions.Completions object at 0x000001B23CEE0310>, async_client=<openai.resources.chat.completions.AsyncCompletions object at 0x000001B23CEEE190>, temperature=0.5, openai_api_key='sk-proj-r1BnlOwScc3fykuSQ2mYT3BlbkFJF8yPW33GXT4dG57qOTWm', openai_proxy='')"
      ]
     },
     "execution_count": 7,
     "metadata": {},
     "output_type": "execute_result"
    }
   ],
   "source": [
    "llm"
   ]
  },
  {
   "cell_type": "code",
   "execution_count": 8,
   "metadata": {},
   "outputs": [],
   "source": [
    "from langchain.llms import OpenAI\n",
    "from langchain.prompts import PromptTemplate\n",
    "from langchain.chains import LLMChain\n",
    "from langchain.chains import SequentialChain\n",
    "from langchain.callbacks import get_openai_callback\n",
    "import PyPDF2"
   ]
  },
  {
   "cell_type": "code",
   "execution_count": 9,
   "metadata": {},
   "outputs": [],
   "source": [
    "RESPONSE_JSON = {\n",
    "    \"1\": {\n",
    "        \"mcq\": \"multiple choice question\",\n",
    "        \"options\": {\n",
    "            \"a\": \"choice here\",\n",
    "            \"b\": \"choice here\",\n",
    "            \"c\": \"choice here\",\n",
    "            \"d\": \"choice here\",\n",
    "        },\n",
    "        \"correct\": \"correct answer\",\n",
    "    },\n",
    "    \"2\": {\n",
    "        \"mcq\": \"multiple choice question\",\n",
    "        \"options\": {\n",
    "            \"a\": \"choice here\",\n",
    "            \"b\": \"choice here\",\n",
    "            \"c\": \"choice here\",\n",
    "            \"d\": \"choice here\",\n",
    "        },\n",
    "        \"correct\": \"correct answer\",\n",
    "    },\n",
    "    \"3\": {\n",
    "        \"mcq\": \"multiple choice question\",\n",
    "        \"options\": {\n",
    "            \"a\": \"choice here\",\n",
    "            \"b\": \"choice here\",\n",
    "            \"c\": \"choice here\",\n",
    "            \"d\": \"choice here\",\n",
    "        },\n",
    "        \"correct\": \"correct answer\",\n",
    "    },\n",
    "}"
   ]
  },
  {
   "cell_type": "code",
   "execution_count": 10,
   "metadata": {},
   "outputs": [],
   "source": [
    "TEMPLATE=\"\"\"\n",
    "Text: {text}\n",
    "\n",
    "You are an expert MCQ maker. Given the above text, it is your job to \\\n",
    "\n",
    "create a quiz of {number} multiple choice questions for {subject} students in {tone} tone.\n",
    "\n",
    "Make sure the questions are not repeated and check all the questions to be conforming the text as well. Make\n",
    "\n",
    "sure to format your response like RESPONSE_JSON below and use it as a guide. \\\n",
    "\n",
    "Ensure to make {number} MCQs\n",
    "\n",
    "### RESPNSE_JSON\n",
    "{response_json}\n",
    "\"\"\""
   ]
  },
  {
   "cell_type": "code",
   "execution_count": 11,
   "metadata": {},
   "outputs": [],
   "source": [
    "quiz_generation_prompt = PromptTemplate(\n",
    "    input_variables=[\"text\" , \"number\" , \"subject\" , \"tone\" , \"response_json\"],\n",
    "    template=TEMPLATE\n",
    ")"
   ]
  },
  {
   "cell_type": "code",
   "execution_count": 12,
   "metadata": {},
   "outputs": [
    {
     "name": "stderr",
     "output_type": "stream",
     "text": [
      "c:\\Users\\zuhai\\OneDrive\\Desktop\\PROJECT2\\MCQ_GENERATOR\\env\\lib\\site-packages\\langchain_core\\_api\\deprecation.py:119: LangChainDeprecationWarning: The class `LLMChain` was deprecated in LangChain 0.1.17 and will be removed in 0.3.0. Use RunnableSequence, e.g., `prompt | llm` instead.\n",
      "  warn_deprecated(\n"
     ]
    }
   ],
   "source": [
    "quiz_chain=LLMChain(llm=llm , prompt=quiz_generation_prompt , output_key=\"quiz\" , verbose=True)"
   ]
  },
  {
   "cell_type": "code",
   "execution_count": 13,
   "metadata": {},
   "outputs": [],
   "source": [
    "TEMPLATE2=\"\"\"\n",
    "You are an expert english grammarian and writer. Given a Multiple Choice Quiz for {subject} students.\\\n",
    "You need to evaluate the complexity of the question and give a complete analysis of the quiz. Only use at max 50 words for complexity analysis. \n",
    "if the quiz is not at per with the cognitive and analytical abilities of the students,\\\n",
    "update the quiz questions which needs to be changed and change the tone such that it perfectly fits the student abilities\n",
    "Quiz_MCQs:\n",
    "{quiz}\n",
    "\n",
    "Check from an expert English Writer of the above quiz:\n",
    "\"\"\""
   ]
  },
  {
   "cell_type": "code",
   "execution_count": 14,
   "metadata": {},
   "outputs": [],
   "source": [
    "quiz_evaluation_prompt=PromptTemplate(input_variables=[\"subject\" , \"quiz\"] , template=TEMPLATE)"
   ]
  },
  {
   "cell_type": "code",
   "execution_count": 15,
   "metadata": {},
   "outputs": [],
   "source": [
    "review_chain=LLMChain(llm=llm , prompt=quiz_evaluation_prompt , output_key=\"review\" , verbose=True )"
   ]
  },
  {
   "cell_type": "code",
   "execution_count": 16,
   "metadata": {},
   "outputs": [],
   "source": [
    "generate_evaluate_chain=SequentialChain(chains=[quiz_chain , review_chain] , input_variables=[\"text\" , \"number\" , \"subject\" , \"tone\" , \"response_json\"],output_variables=[\"quiz\" , \"review\"] , verbose=True)"
   ]
  },
  {
   "cell_type": "code",
   "execution_count": 17,
   "metadata": {},
   "outputs": [],
   "source": [
    "file_path=r\"C:\\Users\\zuhai\\OneDrive\\Desktop\\PROJECT2\\MCQ_GENERATOR\\data.txt\""
   ]
  },
  {
   "cell_type": "code",
   "execution_count": 18,
   "metadata": {},
   "outputs": [],
   "source": [
    "with open(file_path , 'r') as file:\n",
    "    TEXT = file.read()"
   ]
  },
  {
   "cell_type": "code",
   "execution_count": 19,
   "metadata": {},
   "outputs": [
    {
     "data": {
      "text/plain": [
       "'{\"1\": {\"mcq\": \"multiple choice question\", \"options\": {\"a\": \"choice here\", \"b\": \"choice here\", \"c\": \"choice here\", \"d\": \"choice here\"}, \"correct\": \"correct answer\"}, \"2\": {\"mcq\": \"multiple choice question\", \"options\": {\"a\": \"choice here\", \"b\": \"choice here\", \"c\": \"choice here\", \"d\": \"choice here\"}, \"correct\": \"correct answer\"}, \"3\": {\"mcq\": \"multiple choice question\", \"options\": {\"a\": \"choice here\", \"b\": \"choice here\", \"c\": \"choice here\", \"d\": \"choice here\"}, \"correct\": \"correct answer\"}}'"
      ]
     },
     "execution_count": 19,
     "metadata": {},
     "output_type": "execute_result"
    }
   ],
   "source": [
    "json.dumps(RESPONSE_JSON)"
   ]
  },
  {
   "cell_type": "code",
   "execution_count": 20,
   "metadata": {},
   "outputs": [],
   "source": [
    "NUMBER=5\n",
    "SUBJECT=\"Machine Learning\"\n",
    "TONE=\"simple\""
   ]
  },
  {
   "cell_type": "code",
   "execution_count": 21,
   "metadata": {},
   "outputs": [
    {
     "name": "stderr",
     "output_type": "stream",
     "text": [
      "c:\\Users\\zuhai\\OneDrive\\Desktop\\PROJECT2\\MCQ_GENERATOR\\env\\lib\\site-packages\\langchain_core\\_api\\deprecation.py:119: LangChainDeprecationWarning: The method `Chain.__call__` was deprecated in langchain 0.1.0 and will be removed in 0.2.0. Use invoke instead.\n",
      "  warn_deprecated(\n"
     ]
    },
    {
     "name": "stdout",
     "output_type": "stream",
     "text": [
      "\n",
      "\n",
      "\u001b[1m> Entering new SequentialChain chain...\u001b[0m\n",
      "\n",
      "\n",
      "\u001b[1m> Entering new LLMChain chain...\u001b[0m\n",
      "Prompt after formatting:\n",
      "\u001b[32;1m\u001b[1;3m\n",
      "Text: The term machine learning was coined in 1959 by Arthur Samuel, an IBM employee and pioneer in the field of computer gaming and artificial intelligence.[9][10] The synonym self-teaching computers was also used in this time period.[11][12]\n",
      "\n",
      "Although the earliest machine learning model was introduced in the 1950s when Arthur Samuel invented a program that calculated the winning chance in checkers for each side, the history of machine learning roots back to decades of human desire and effort to study human cognitive processes.[13] In 1949, Canadian psychologist Donald Hebb published the book The Organization of Behavior, in which he introduced a theoretical neural structure formed by certain interactions among nerve cells.[14] Hebb's model of neurons interacting with one another set a groundwork for how AIs and machine learning algorithms work under nodes, or artificial neurons used by computers to communicate data.[13] Other researchers who have studied human cognitive systems contributed to the modern machine learning technologies as well, including logician Walter Pitts and Warren McCulloch, who proposed the early mathematical models of neural networks to come up with algorithms that mirror human thought processes.[13]\n",
      "\n",
      "By the early 1960s an experimental \"learning machine\" with punched tape memory, called Cybertron, had been developed by Raytheon Company to analyze sonar signals, electrocardiograms, and speech patterns using rudimentary reinforcement learning. It was repetitively \"trained\" by a human operator/teacher to recognize patterns and equipped with a \"goof\" button to cause it to re-evaluate incorrect decisions.[15] A representative book on research into machine learning during the 1960s was Nilsson's book on Learning Machines, dealing mostly with machine learning for pattern classification.[16] Interest related to pattern recognition continued into the 1970s, as described by Duda and Hart in 1973.[17] In 1981 a report was given on using teaching strategies so that an artificial neural network learns to recognize 40 characters (26 letters, 10 digits, and 4 special symbols) from a computer terminal.[18]\n",
      "\n",
      "Tom M. Mitchell provided a widely quoted, more formal definition of the algorithms studied in the machine learning field: \"A computer program is said to learn from experience E with respect to some class of tasks T and performance measure P if its performance at tasks in T, as measured by P, improves with experience E.\"[19] This definition of the tasks in which machine learning is concerned offers a fundamentally operational definition rather than defining the field in cognitive terms. This follows Alan Turing's proposal in his paper \"Computing Machinery and Intelligence\", in which the question \"Can machines think?\" is replaced with the question \"Can machines do what we (as thinking entities) can do?\".[20]\n",
      "\n",
      "Modern-day machine learning has two objectives. One is to classify data based on models which have been developed; the other purpose is to make predictions for future outcomes based on these models. A hypothetical algorithm specific to classifying data may use computer vision of moles coupled with supervised learning in order to train it to classify the cancerous moles. A machine learning algorithm for stock trading may inform the trader of future potential predictions.[21]\n",
      "\n",
      "You are an expert MCQ maker. Given the above text, it is your job to \n",
      "create a quiz of 5 multiple choice questions for Machine Learning students in simple tone.\n",
      "\n",
      "Make sure the questions are not repeated and check all the questions to be conforming the text as well. Make\n",
      "\n",
      "sure to format your response like RESPONSE_JSON below and use it as a guide. \n",
      "Ensure to make 5 MCQs\n",
      "\n",
      "### RESPNSE_JSON\n",
      "{\"1\": {\"mcq\": \"multiple choice question\", \"options\": {\"a\": \"choice here\", \"b\": \"choice here\", \"c\": \"choice here\", \"d\": \"choice here\"}, \"correct\": \"correct answer\"}, \"2\": {\"mcq\": \"multiple choice question\", \"options\": {\"a\": \"choice here\", \"b\": \"choice here\", \"c\": \"choice here\", \"d\": \"choice here\"}, \"correct\": \"correct answer\"}, \"3\": {\"mcq\": \"multiple choice question\", \"options\": {\"a\": \"choice here\", \"b\": \"choice here\", \"c\": \"choice here\", \"d\": \"choice here\"}, \"correct\": \"correct answer\"}}\n",
      "\u001b[0m\n",
      "\n",
      "\u001b[1m> Finished chain.\u001b[0m\n",
      "\n",
      "\n",
      "\u001b[1m> Entering new LLMChain chain...\u001b[0m\n",
      "Prompt after formatting:\n",
      "\u001b[32;1m\u001b[1;3m\n",
      "Text: The term machine learning was coined in 1959 by Arthur Samuel, an IBM employee and pioneer in the field of computer gaming and artificial intelligence.[9][10] The synonym self-teaching computers was also used in this time period.[11][12]\n",
      "\n",
      "Although the earliest machine learning model was introduced in the 1950s when Arthur Samuel invented a program that calculated the winning chance in checkers for each side, the history of machine learning roots back to decades of human desire and effort to study human cognitive processes.[13] In 1949, Canadian psychologist Donald Hebb published the book The Organization of Behavior, in which he introduced a theoretical neural structure formed by certain interactions among nerve cells.[14] Hebb's model of neurons interacting with one another set a groundwork for how AIs and machine learning algorithms work under nodes, or artificial neurons used by computers to communicate data.[13] Other researchers who have studied human cognitive systems contributed to the modern machine learning technologies as well, including logician Walter Pitts and Warren McCulloch, who proposed the early mathematical models of neural networks to come up with algorithms that mirror human thought processes.[13]\n",
      "\n",
      "By the early 1960s an experimental \"learning machine\" with punched tape memory, called Cybertron, had been developed by Raytheon Company to analyze sonar signals, electrocardiograms, and speech patterns using rudimentary reinforcement learning. It was repetitively \"trained\" by a human operator/teacher to recognize patterns and equipped with a \"goof\" button to cause it to re-evaluate incorrect decisions.[15] A representative book on research into machine learning during the 1960s was Nilsson's book on Learning Machines, dealing mostly with machine learning for pattern classification.[16] Interest related to pattern recognition continued into the 1970s, as described by Duda and Hart in 1973.[17] In 1981 a report was given on using teaching strategies so that an artificial neural network learns to recognize 40 characters (26 letters, 10 digits, and 4 special symbols) from a computer terminal.[18]\n",
      "\n",
      "Tom M. Mitchell provided a widely quoted, more formal definition of the algorithms studied in the machine learning field: \"A computer program is said to learn from experience E with respect to some class of tasks T and performance measure P if its performance at tasks in T, as measured by P, improves with experience E.\"[19] This definition of the tasks in which machine learning is concerned offers a fundamentally operational definition rather than defining the field in cognitive terms. This follows Alan Turing's proposal in his paper \"Computing Machinery and Intelligence\", in which the question \"Can machines think?\" is replaced with the question \"Can machines do what we (as thinking entities) can do?\".[20]\n",
      "\n",
      "Modern-day machine learning has two objectives. One is to classify data based on models which have been developed; the other purpose is to make predictions for future outcomes based on these models. A hypothetical algorithm specific to classifying data may use computer vision of moles coupled with supervised learning in order to train it to classify the cancerous moles. A machine learning algorithm for stock trading may inform the trader of future potential predictions.[21]\n",
      "\n",
      "You are an expert MCQ maker. Given the above text, it is your job to \n",
      "create a quiz of 5 multiple choice questions for Machine Learning students in simple tone.\n",
      "\n",
      "Make sure the questions are not repeated and check all the questions to be conforming the text as well. Make\n",
      "\n",
      "sure to format your response like RESPONSE_JSON below and use it as a guide. \n",
      "Ensure to make 5 MCQs\n",
      "\n",
      "### RESPNSE_JSON\n",
      "{\"1\": {\"mcq\": \"multiple choice question\", \"options\": {\"a\": \"choice here\", \"b\": \"choice here\", \"c\": \"choice here\", \"d\": \"choice here\"}, \"correct\": \"correct answer\"}, \"2\": {\"mcq\": \"multiple choice question\", \"options\": {\"a\": \"choice here\", \"b\": \"choice here\", \"c\": \"choice here\", \"d\": \"choice here\"}, \"correct\": \"correct answer\"}, \"3\": {\"mcq\": \"multiple choice question\", \"options\": {\"a\": \"choice here\", \"b\": \"choice here\", \"c\": \"choice here\", \"d\": \"choice here\"}, \"correct\": \"correct answer\"}}\n",
      "\u001b[0m\n",
      "\n",
      "\u001b[1m> Finished chain.\u001b[0m\n",
      "\n",
      "\u001b[1m> Finished chain.\u001b[0m\n"
     ]
    }
   ],
   "source": [
    "with get_openai_callback() as cb:\n",
    "    response=generate_evaluate_chain(\n",
    "        {\n",
    "            \"text\":TEXT,\n",
    "            \"number\":NUMBER,\n",
    "            \"subject\":SUBJECT,\n",
    "            \"tone\":TONE,\n",
    "            \"response_json\":json.dumps(RESPONSE_JSON)\n",
    "        }\n",
    "    )"
   ]
  },
  {
   "cell_type": "code",
   "execution_count": 22,
   "metadata": {},
   "outputs": [
    {
     "name": "stdout",
     "output_type": "stream",
     "text": [
      "Total Tokens:2592\n",
      "Prompt Tokens:1796\n",
      "Completion Tokens:796\n",
      "Total Cost:0.004286\n"
     ]
    }
   ],
   "source": [
    "print(f\"Total Tokens:{cb.total_tokens}\")\n",
    "print(f\"Prompt Tokens:{cb.prompt_tokens}\")\n",
    "print(f\"Completion Tokens:{cb.completion_tokens}\")\n",
    "print(f\"Total Cost:{cb.total_cost}\")"
   ]
  },
  {
   "cell_type": "code",
   "execution_count": 23,
   "metadata": {},
   "outputs": [
    {
     "data": {
      "text/plain": [
       "{'text': 'The term machine learning was coined in 1959 by Arthur Samuel, an IBM employee and pioneer in the field of computer gaming and artificial intelligence.[9][10] The synonym self-teaching computers was also used in this time period.[11][12]\\n\\nAlthough the earliest machine learning model was introduced in the 1950s when Arthur Samuel invented a program that calculated the winning chance in checkers for each side, the history of machine learning roots back to decades of human desire and effort to study human cognitive processes.[13] In 1949, Canadian psychologist Donald Hebb published the book The Organization of Behavior, in which he introduced a theoretical neural structure formed by certain interactions among nerve cells.[14] Hebb\\'s model of neurons interacting with one another set a groundwork for how AIs and machine learning algorithms work under nodes, or artificial neurons used by computers to communicate data.[13] Other researchers who have studied human cognitive systems contributed to the modern machine learning technologies as well, including logician Walter Pitts and Warren McCulloch, who proposed the early mathematical models of neural networks to come up with algorithms that mirror human thought processes.[13]\\n\\nBy the early 1960s an experimental \"learning machine\" with punched tape memory, called Cybertron, had been developed by Raytheon Company to analyze sonar signals, electrocardiograms, and speech patterns using rudimentary reinforcement learning. It was repetitively \"trained\" by a human operator/teacher to recognize patterns and equipped with a \"goof\" button to cause it to re-evaluate incorrect decisions.[15] A representative book on research into machine learning during the 1960s was Nilsson\\'s book on Learning Machines, dealing mostly with machine learning for pattern classification.[16] Interest related to pattern recognition continued into the 1970s, as described by Duda and Hart in 1973.[17] In 1981 a report was given on using teaching strategies so that an artificial neural network learns to recognize 40 characters (26 letters, 10 digits, and 4 special symbols) from a computer terminal.[18]\\n\\nTom M. Mitchell provided a widely quoted, more formal definition of the algorithms studied in the machine learning field: \"A computer program is said to learn from experience E with respect to some class of tasks T and performance measure P if its performance at tasks in T, as measured by P, improves with experience E.\"[19] This definition of the tasks in which machine learning is concerned offers a fundamentally operational definition rather than defining the field in cognitive terms. This follows Alan Turing\\'s proposal in his paper \"Computing Machinery and Intelligence\", in which the question \"Can machines think?\" is replaced with the question \"Can machines do what we (as thinking entities) can do?\".[20]\\n\\nModern-day machine learning has two objectives. One is to classify data based on models which have been developed; the other purpose is to make predictions for future outcomes based on these models. A hypothetical algorithm specific to classifying data may use computer vision of moles coupled with supervised learning in order to train it to classify the cancerous moles. A machine learning algorithm for stock trading may inform the trader of future potential predictions.[21]',\n",
       " 'number': 5,\n",
       " 'subject': 'Machine Learning',\n",
       " 'tone': 'simple',\n",
       " 'response_json': '{\"1\": {\"mcq\": \"multiple choice question\", \"options\": {\"a\": \"choice here\", \"b\": \"choice here\", \"c\": \"choice here\", \"d\": \"choice here\"}, \"correct\": \"correct answer\"}, \"2\": {\"mcq\": \"multiple choice question\", \"options\": {\"a\": \"choice here\", \"b\": \"choice here\", \"c\": \"choice here\", \"d\": \"choice here\"}, \"correct\": \"correct answer\"}, \"3\": {\"mcq\": \"multiple choice question\", \"options\": {\"a\": \"choice here\", \"b\": \"choice here\", \"c\": \"choice here\", \"d\": \"choice here\"}, \"correct\": \"correct answer\"}}',\n",
       " 'quiz': '\\n{\\n    \"1\": {\\n        \"mcq\": \"Who coined the term machine learning in 1959?\",\\n        \"options\": {\\n            \"a\": \"Donald Hebb\",\\n            \"b\": \"Tom M. Mitchell\",\\n            \"c\": \"Arthur Samuel\",\\n            \"d\": \"Walter Pitts\"\\n        },\\n        \"correct\": \"c\"\\n    },\\n    \"2\": {\\n        \"mcq\": \"What was the name of the experimental \\'learning machine\\' developed by Raytheon Company in the early 1960s?\",\\n        \"options\": {\\n            \"a\": \"Cybernet\",\\n            \"b\": \"Cybertron\",\\n            \"c\": \"RoboLearn\",\\n            \"d\": \"TechBrain\"\\n        },\\n        \"correct\": \"b\"\\n    },\\n    \"3\": {\\n        \"mcq\": \"According to Tom M. Mitchell, what does a computer program do in machine learning with respect to experience E, tasks T, and performance measure P?\",\\n        \"options\": {\\n            \"a\": \"Learns from experience\",\\n            \"b\": \"Imitates human behavior\",\\n            \"c\": \"Calculates probabilities\",\\n            \"d\": \"Generates random data\"\\n        },\\n        \"correct\": \"a\"\\n    },\\n    \"4\": {\\n        \"mcq\": \"What is one of the objectives of modern-day machine learning?\",\\n        \"options\": {\\n            \"a\": \"To confuse data\",\\n            \"b\": \"To make predictions based on models\",\\n            \"c\": \"To ignore patterns\",\\n            \"d\": \"To avoid learning from experience\"\\n        },\\n        \"correct\": \"b\"\\n    },\\n    \"5\": {\\n        \"mcq\": \"What type of algorithm may use computer vision of moles for classifying cancerous moles?\",\\n        \"options\": {\\n            \"a\": \"Supervised learning algorithm\",\\n            \"b\": \"Unsupervised learning algorithm\",\\n            \"c\": \"Reinforcement learning algorithm\",\\n            \"d\": \"Deep learning algorithm\"\\n        },\\n        \"correct\": \"a\"\\n    }\\n}',\n",
       " 'review': '{\\n\"1\": {\\n\"mcq\": \"Who coined the term machine learning in 1959?\",\\n\"options\": {\\n\"a\": \"Donald Hebb\",\\n\"b\": \"Raytheon Company\",\\n\"c\": \"Arthur Samuel\",\\n\"d\": \"Tom M. Mitchell\"\\n},\\n\"correct\": \"c\"\\n},\\n\"2\": {\\n\"mcq\": \"What was the purpose of the experimental \\'learning machine\\' Cybertron developed by Raytheon Company in the early 1960s?\",\\n\"options\": {\\n\"a\": \"To analyze sonar signals\",\\n\"b\": \"To play checkers\",\\n\"c\": \"To predict stock market outcomes\",\\n\"d\": \"To study human cognitive processes\"\\n},\\n\"correct\": \"a\"\\n},\\n\"3\": {\\n\"mcq\": \"According to Tom M. Mitchell, what does a computer program do in machine learning?\",\\n\"options\": {\\n\"a\": \"It learns from experience and improves performance\",\\n\"b\": \"It mimics human thought processes\",\\n\"c\": \"It creates new algorithms\",\\n\"d\": \"It predicts future outcomes\"\\n},\\n\"correct\": \"a\"\\n},\\n\"4\": {\\n\"mcq\": \"What is one of the objectives of modern-day machine learning?\",\\n\"options\": {\\n\"a\": \"To invent new technologies\",\\n\"b\": \"To classify data and make predictions based on models\",\\n\"c\": \"To study human cognitive processes\",\\n\"d\": \"To analyze historical data\"\\n},\\n\"correct\": \"b\"\\n},\\n\"5\": {\\n\"mcq\": \"What did Alan Turing propose in his paper \\'Computing Machinery and Intelligence\\'?\",\\n\"options\": {\\n\"a\": \"Can machines think?\",\\n\"b\": \"Can machines do what humans can do?\",\\n\"c\": \"Can machines learn from experience?\",\\n\"d\": \"Can machines predict the future?\"\\n},\\n\"correct\": \"b\"\\n}\\n}'}"
      ]
     },
     "execution_count": 23,
     "metadata": {},
     "output_type": "execute_result"
    }
   ],
   "source": [
    "response"
   ]
  },
  {
   "cell_type": "code",
   "execution_count": 45,
   "metadata": {},
   "outputs": [],
   "source": [
    "quiz=response.get(\"quiz\")"
   ]
  },
  {
   "cell_type": "code",
   "execution_count": 39,
   "metadata": {},
   "outputs": [
    {
     "name": "stdout",
     "output_type": "stream",
     "text": [
      "\n",
      "{\n",
      "  \"1\": {\n",
      "    \"mcq\": \"Who coined the term 'machine learning' in 1959?\",\n",
      "    \"options\": {\n",
      "      \"a\": \"Donald Hebb\",\n",
      "      \"b\": \"Tom M. Mitchell\",\n",
      "      \"c\": \"Arthur Samuel\",\n",
      "      \"d\": \"Walter Pitts\"\n",
      "    },\n",
      "    \"correct\": \"c\"\n",
      "  },\n",
      "  \"2\": {\n",
      "    \"mcq\": \"What was the name of the experimental 'learning machine' developed by Raytheon Company in the early 1960s?\",\n",
      "    \"options\": {\n",
      "      \"a\": \"Cybertron\",\n",
      "      \"b\": \"Deep Blue\",\n",
      "      \"c\": \"HAL 9000\",\n",
      "      \"d\": \"Skynet\"\n",
      "    },\n",
      "    \"correct\": \"a\"\n",
      "  },\n",
      "  \"3\": {\n",
      "    \"mcq\": \"Who proposed the early mathematical models of neural networks for machine learning algorithms?\",\n",
      "    \"options\": {\n",
      "      \"a\": \"Donald Hebb\",\n",
      "      \"b\": \"Warren McCulloch\",\n",
      "      \"c\": \"Tom M. Mitchell\",\n",
      "      \"d\": \"Arthur Samuel\"\n",
      "    },\n",
      "    \"correct\": \"b\"\n",
      "  },\n",
      "  \"4\": {\n",
      "    \"mcq\": \"What is the main objective of modern-day machine learning?\",\n",
      "    \"options\": {\n",
      "      \"a\": \"To confuse data\",\n",
      "      \"b\": \"To make predictions based on models\",\n",
      "      \"c\": \"To hide data\",\n",
      "      \"d\": \"To ignore data\"\n",
      "    },\n",
      "    \"correct\": \"b\"\n",
      "  },\n",
      "  \"5\": {\n",
      "    \"mcq\": \"According to Tom M. Mitchell, when does a computer program learn from experience?\",\n",
      "    \"options\": {\n",
      "      \"a\": \"When it stops working\",\n",
      "      \"b\": \"When its performance improves with experience\",\n",
      "      \"c\": \"When it forgets everything\",\n",
      "      \"d\": \"When it never learns\"\n",
      "    },\n",
      "    \"correct\": \"b\"\n",
      "  }\n",
      "}\n"
     ]
    }
   ],
   "source": [
    "print(response.get(\"quiz\"))"
   ]
  },
  {
   "cell_type": "code",
   "execution_count": 46,
   "metadata": {},
   "outputs": [],
   "source": [
    "quiz=json.loads(quiz)"
   ]
  },
  {
   "cell_type": "code",
   "execution_count": 47,
   "metadata": {},
   "outputs": [],
   "source": [
    "quiz_table_data = []\n",
    "for key, value in quiz.items():\n",
    "    mcq = value[\"mcq\"]\n",
    "    options = \" | \".join(\n",
    "        [\n",
    "            f\"{option}: {option_value}\"\n",
    "            for option, option_value in value[\"options\"].items()\n",
    "            ]\n",
    "        )\n",
    "    correct = value[\"correct\"]\n",
    "    quiz_table_data.append({\"MCQ\": mcq, \"Choices\": options, \"Correct\": correct})"
   ]
  },
  {
   "cell_type": "code",
   "execution_count": 48,
   "metadata": {},
   "outputs": [
    {
     "data": {
      "text/plain": [
       "[{'MCQ': \"Who coined the term 'machine learning' in 1959?\",\n",
       "  'Choices': 'a: Donald Hebb | b: Tom M. Mitchell | c: Arthur Samuel | d: Walter Pitts',\n",
       "  'Correct': 'c'},\n",
       " {'MCQ': \"What was the name of the experimental 'learning machine' developed by Raytheon Company in the early 1960s?\",\n",
       "  'Choices': 'a: Cybertron | b: Deep Blue | c: HAL 9000 | d: Skynet',\n",
       "  'Correct': 'a'},\n",
       " {'MCQ': 'Who proposed the early mathematical models of neural networks for machine learning algorithms?',\n",
       "  'Choices': 'a: Donald Hebb | b: Warren McCulloch | c: Tom M. Mitchell | d: Arthur Samuel',\n",
       "  'Correct': 'b'},\n",
       " {'MCQ': 'What is the main objective of modern-day machine learning?',\n",
       "  'Choices': 'a: To confuse data | b: To make predictions based on models | c: To hide data | d: To ignore data',\n",
       "  'Correct': 'b'},\n",
       " {'MCQ': 'According to Tom M. Mitchell, when does a computer program learn from experience?',\n",
       "  'Choices': 'a: When it stops working | b: When its performance improves with experience | c: When it forgets everything | d: When it never learns',\n",
       "  'Correct': 'b'}]"
      ]
     },
     "execution_count": 48,
     "metadata": {},
     "output_type": "execute_result"
    }
   ],
   "source": [
    "quiz_table_data"
   ]
  },
  {
   "cell_type": "code",
   "execution_count": 53,
   "metadata": {},
   "outputs": [],
   "source": [
    "quiz=pd.DataFrame(quiz_table_data)"
   ]
  },
  {
   "cell_type": "code",
   "execution_count": 54,
   "metadata": {},
   "outputs": [],
   "source": [
    "quiz.to_csv(\"machinelearning.csv\",index=False)"
   ]
  }
 ],
 "metadata": {
  "kernelspec": {
   "display_name": "Python 3",
   "language": "python",
   "name": "python3"
  },
  "language_info": {
   "codemirror_mode": {
    "name": "ipython",
    "version": 3
   },
   "file_extension": ".py",
   "mimetype": "text/x-python",
   "name": "python",
   "nbconvert_exporter": "python",
   "pygments_lexer": "ipython3",
   "version": "3.8.19"
  }
 },
 "nbformat": 4,
 "nbformat_minor": 2
}
